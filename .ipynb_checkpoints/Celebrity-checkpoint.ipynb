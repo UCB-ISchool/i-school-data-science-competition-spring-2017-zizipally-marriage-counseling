{
 "cells": [
  {
   "cell_type": "markdown",
   "metadata": {},
   "source": [
    "# Celebrity Divorce Rate Calculation #"
   ]
  },
  {
   "cell_type": "code",
   "execution_count": 1,
   "metadata": {
    "collapsed": false
   },
   "outputs": [],
   "source": [
    "import requests\n",
    "import re\n",
    "import random\n",
    "import wptools\n",
    "import numpy as np\n",
    "import pandas as pd\n",
    "import pickle\n",
    "\n",
    "base_URL = 'https://en.wikipedia.org/w/api.php'"
   ]
  },
  {
   "cell_type": "code",
   "execution_count": 2,
   "metadata": {
    "collapsed": false
   },
   "outputs": [],
   "source": [
    "person_params = {'action': 'parse', \n",
    "                 'prop': 'wikitext',\n",
    "                 'format':'json'}\n",
    "\n",
    "# parse wikipedia category pages\n",
    "def parse_categories(category_params):\n",
    "    actors_pages = []\n",
    "    while True:\n",
    "        try:\n",
    "            response = requests.get(base_URL, params=category_params).json()\n",
    "            actors_pages.append(response['query']['categorymembers'])\n",
    "            category_params['cmcontinue'] = response['continue']['cmcontinue']\n",
    "        except:\n",
    "            break\n",
    "    \n",
    "    actors = {actor['title']: actor['pageid'] for page in actors_pages for actor in page}\n",
    "    return actors\n",
    "\n",
    "# get wikitext for a single page given its page ID\n",
    "def get_page_data(pageid):\n",
    "    person_params['pageid'] = pageid\n",
    "    data = requests.get(base_URL, params=person_params).json()['parse']['wikitext']['*']\n",
    "    data = re.sub('\\s+', ' ', data)\n",
    "    return data\n",
    "\n",
    "# get a tuple of True/False, list of years when they got married, list of years when they got divorced\n",
    "# True/False: if the person has ever been married\n",
    "# the third tuple element could be an empty list if they have never got divorced before\n",
    "def get_marriage_info(pageid, data):\n",
    "    data = data[data.find('spouse'):]\n",
    "    start_idx = [m.start() for m in re.finditer('{{marriage', data.lower())]\n",
    "    n = len(start_idx)\n",
    "    if n > 0: # person is married\n",
    "        try:\n",
    "            end_idx = [data[start_idx[i]:].find('}}') for i in range(n)]\n",
    "            marriages = [data[start_idx[i] : start_idx[i] + end_idx[i]] for i in range(n)]\n",
    "            marriage_years = [[m.group() for m in re.finditer('[1-3][0-9]{3}', marriage)] for marriage in marriages]\n",
    "            start_years = [m[0] for m in marriage_years]\n",
    "            divorce_years = [m[1] for m in marriage_years if len(m) > 1]\n",
    "            return True, start_years, divorce_years\n",
    "        except:\n",
    "            print('error parsing {0}, marriages text: {1}'.format(pageid, marriages))\n",
    "            return False, None, None\n",
    "    else:\n",
    "        return False, None, None\n",
    "\n",
    "# get a person's info and returns marriage years for a person\n",
    "def get_simple_info(group):\n",
    "    name, pageid = list(group['name'])[0], int(list(group['pageid'])[0])\n",
    "    \n",
    "    # Getting marriage info\n",
    "    married, married_years, divorced_years = get_marriage_info(pageid, get_page_data(pageid))\n",
    "    \n",
    "    if not married:\n",
    "        person_info = [(name, pageid, np.nan, np.nan, married)]\n",
    "    else:\n",
    "        while len(married_years) > len(divorced_years): \n",
    "            divorced_years.append(np.nan)\n",
    "        person_info = [(name, pageid, married_years[i], divorced_years[i], married) \n",
    "                       for i in range(len(married_years))]\n",
    "        \n",
    "    return pd.DataFrame(person_info)\n",
    "\n",
    "# gets a person's info and returns birth year, death year along with marriage info\n",
    "def get_info(group):\n",
    "    name, pageid = list(group['name'])[0], int(list(group['pageid'])[0])\n",
    "    \n",
    "    try: \n",
    "        page_parse = wptools.page(pageid=pageid, silent=True).get_parse(show=False)\n",
    "        infobox = page_parse.infobox\n",
    "        infobox_keys = infobox.keys()\n",
    "    except:\n",
    "        return None\n",
    "    \n",
    "    # Checking if birthdate is present\n",
    "    try:\n",
    "        birth_year = np.nan if 'birth_date' not in infobox_keys \\\n",
    "        else re.findall('[1-3][0-9]{3}', infobox['birth_date'])[0]\n",
    "    except:\n",
    "        birth_year = np.nan\n",
    "        \n",
    "    # Checking if deathdate is present\n",
    "    try:\n",
    "        death_year = np.nan if 'death_date' not in infobox_keys \\\n",
    "        else max(re.findall('[1-3][0-9]{3}', infobox['death_date']))\n",
    "    except:\n",
    "        death_year = np.nan\n",
    "    \n",
    "    # Getting marriage info\n",
    "    married, married_years, divorced_years = get_marriage_info(pageid, get_page_data(pageid))\n",
    "    \n",
    "    if not married:\n",
    "        person_info = [(name, pageid, birth_year, death_year, np.nan, np.nan, married)]\n",
    "    else:\n",
    "        if len(married_years) > len(divorced_years): \n",
    "            divorced_years.append(np.nan)\n",
    "        person_info = [(name, pageid, birth_year, death_year, married_years[i], divorced_years[i], married) \n",
    "                       for i in range(len(married_years))]\n",
    "    \n",
    "    return pd.DataFrame(person_info)\n",
    "\n",
    "# calculate a simple divorce rate = number of people who got a divorce/number of people who were once married\n",
    "def simple_divorce_rate(marriage_info):\n",
    "    married = [m for m in marriage_info if m[0]]\n",
    "    divorced = [m for m in married if len(m[2]) > 0]\n",
    "    return len(divorced)/len(married)\n",
    "\n",
    "# utility function: \n",
    "# get n random celebrities from the actors list \n",
    "# because parsing through all pages will take too long\n",
    "def get_random_celebs(actors, n, seed=None):\n",
    "    if seed is not None:\n",
    "        random.seed(seed)\n",
    "    return random.sample(list(actors.values()), n)\n",
    "\n",
    "# utility function: \n",
    "# see if a person is married\n",
    "def is_married(pageid):\n",
    "    married, _, _ = get_marriage_info(pageid, get_page_data(pageid))\n",
    "    return married\n",
    "\n",
    "# run num_iters round of random sampling and calculate the simple divorce rate of drawn random samples\n",
    "def divorce_rate_simulation(celebs_df, num_iters, sample_size, random_state):\n",
    "    queried_celebs_dict, divorce_rates = {}, []\n",
    "    for i in range(num_iters):\n",
    "        random_pageids = list(celebs_df.sample(sample_size, replace=False, random_state=random_state)['pageid'])\n",
    "        \n",
    "        # fetch existing info from the cache\n",
    "        marriage_info_existing = [queried_celebs_dict[pageid] for pageid in random_pageids \n",
    "                                  if pageid in queried_celebs_dict]\n",
    "        \n",
    "        # get new marriages not in cache\n",
    "        new_marriages = [(pageid, get_marriage_info(pageid, get_page_data(pageid))) for pageid in random_pageids \n",
    "                         if pageid not in queried_celebs_dict]\n",
    "        pageid_new, marriage_info_new = list(zip(*new_marriages))\n",
    "        marriage_info_new = list(marriage_info_new)\n",
    "        \n",
    "        # update cache\n",
    "        queried_celebs_dict.update({pageid: marriage_info_new[i] for idx, pageid in enumerate(pageid_new)})\n",
    "        \n",
    "        # calculate simple divorce rate for this simulation\n",
    "        marriage_info = marriage_info_existing + marriage_info_new\n",
    "        divorce_rates.append(simple_divorce_rate(marriage_info))\n",
    "    return divorce_rates"
   ]
  },
  {
   "cell_type": "code",
   "execution_count": 3,
   "metadata": {
    "collapsed": false
   },
   "outputs": [
    {
     "name": "stdout",
     "output_type": "stream",
     "text": [
      "number of actors:  10679\n",
      "number of actresses:  7917\n",
      "number of total celebrities:  18592\n"
     ]
    }
   ],
   "source": [
    "# parse American male film actor category\n",
    "category_params = {'cmtitle': 'Category:American male film actors',\n",
    "                   'action': 'query', \n",
    "                   'list': 'categorymembers', \n",
    "                   'cmlimit': 500, \n",
    "                   'format':'json'}\n",
    "actors = parse_categories(category_params)\n",
    "\n",
    "# parse American female film actress category\n",
    "category_params = {'cmtitle': 'Category:American film actresses',\n",
    "                   'action': 'query', \n",
    "                   'list': 'categorymembers', \n",
    "                   'cmlimit': 500, \n",
    "                   'format':'json'}\n",
    "actresses = parse_categories(category_params)\n",
    "\n",
    "celebs ={**actors, **actresses}\n",
    "\n",
    "print('number of actors: ', len(actors))\n",
    "print('number of actresses: ', len(actresses))\n",
    "print('number of total celebrities: ', len(celebs))"
   ]
  },
  {
   "cell_type": "markdown",
   "metadata": {},
   "source": [
    "### Divorce Rate of Random Sampling of Celebrities on Wikipedia ###"
   ]
  },
  {
   "cell_type": "code",
   "execution_count": 4,
   "metadata": {
    "collapsed": false
   },
   "outputs": [],
   "source": [
    "celebs_df = pd.DataFrame(list(celebs.items()), columns=['name', 'pageid'])\n",
    "divorce_rates_filename = 'divorce_rates'\n",
    "\n",
    "# TODO: Update these params \n",
    "num_iters, sample_size, random_state = 5, 10, None\n",
    "# num_iters, sample_size, random_state = 50, 1000, None\n",
    "\n",
    "divorce_rates = divorce_rate_simulation(celebs_df, num_iters, sample_size, random_state)"
   ]
  },
  {
   "cell_type": "code",
   "execution_count": 5,
   "metadata": {
    "collapsed": false
   },
   "outputs": [],
   "source": [
    "# write the list to a local file\n",
    "with open(divorce_rates_filename, 'wb') as fp:\n",
    "    pickle.dump(divorce_rates, fp)"
   ]
  },
  {
   "cell_type": "code",
   "execution_count": 6,
   "metadata": {
    "collapsed": false
   },
   "outputs": [
    {
     "data": {
      "text/plain": [
       "[0.5, 1.0, 1.0, 1.0, 0.5]"
      ]
     },
     "execution_count": 6,
     "metadata": {},
     "output_type": "execute_result"
    }
   ],
   "source": [
    "# read the list from local file\n",
    "with open (divorce_rates_filename, 'rb') as fp:\n",
    "    divorce_rates = pickle.load(fp)\n",
    "    \n",
    "divorce_rates"
   ]
  },
  {
   "cell_type": "markdown",
   "metadata": {},
   "source": [
    "### Divorce Rate of Celebrities on People Magazine ###"
   ]
  },
  {
   "cell_type": "code",
   "execution_count": 7,
   "metadata": {
    "collapsed": false,
    "scrolled": true
   },
   "outputs": [
    {
     "ename": "SyntaxError",
     "evalue": "invalid syntax (<ipython-input-7-ca553ca67a25>, line 1)",
     "output_type": "error",
     "traceback": [
      "\u001b[0;36m  File \u001b[0;32m\"<ipython-input-7-ca553ca67a25>\"\u001b[0;36m, line \u001b[0;32m1\u001b[0m\n\u001b[0;31m    something deliberately wrong\u001b[0m\n\u001b[0m                         ^\u001b[0m\n\u001b[0;31mSyntaxError\u001b[0m\u001b[0;31m:\u001b[0m invalid syntax\n"
     ]
    }
   ],
   "source": [
    "something deliberately wrong"
   ]
  },
  {
   "cell_type": "code",
   "execution_count": null,
   "metadata": {
    "collapsed": false
   },
   "outputs": [],
   "source": [
    "# celeb list from People magazine\n",
    "celeb_list = []\n",
    "with open (\"celebrity_list.txt\", 'r') as f:\n",
    "    inp_celeb_list = f.read()\n",
    "\n",
    "celeb_list = inp_celeb_list.split(\"\\n\")\n",
    "\n",
    "people_celebs = {celeb: celebs[celeb] for celeb in celeb_list if celeb in celebs}\n",
    "print(len(people_celebs))\n",
    "\n",
    "# creating the people celebrities dataframe\n",
    "people_actors_df = pd.DataFrame([(celeb, people_celebs[celeb]) for celeb in people_celebs])\n",
    "people_actors_df.columns = ['name', 'pageid']\n",
    "people_actors_df.head()"
   ]
  },
  {
   "cell_type": "code",
   "execution_count": null,
   "metadata": {
    "collapsed": false
   },
   "outputs": [],
   "source": [
    "actors_df = people_actors_df\n",
    "\n",
    "# calculate marriage info and stor in a local file\n",
    "csv_filename = 'people_actors.csv'\n",
    "\n",
    "actors_df = actors_df.groupby('name', group_keys=False).apply(get_info)\n",
    "actors_df.columns = ['name', 'pageid', 'birth_year', 'death_year', 'married_year', 'divorced_year', 'married']\n",
    "\n",
    "actors_df.to_csv(csv_filename, index=False)"
   ]
  },
  {
   "cell_type": "code",
   "execution_count": null,
   "metadata": {
    "collapsed": false
   },
   "outputs": [],
   "source": [
    "df = pd.read_csv(csv_filename)\n",
    "df.head()"
   ]
  },
  {
   "cell_type": "markdown",
   "metadata": {},
   "source": [
    "### Code Scrapyard ###"
   ]
  },
  {
   "cell_type": "code",
   "execution_count": null,
   "metadata": {
    "collapsed": false
   },
   "outputs": [],
   "source": [
    "# get 100 random actors\n",
    "# random_pageids = get_random_celebs(actors, 500)\n",
    "\n",
    "# get marriage info for each of 100 actors\n",
    "# marriage_info = [get_marriage_info(pageid, get_page_data(pageid)) for pageid in random_pageids]\n",
    "\n",
    "# do a simple calculation of the divorce rate\n",
    "# print(simple_divorce_rate(marriage_info))"
   ]
  },
  {
   "cell_type": "code",
   "execution_count": null,
   "metadata": {
    "collapsed": false
   },
   "outputs": [],
   "source": [
    "# married = actors_df.apply(lambda x: is_married(x['pageid']), axis=1)\n",
    "# actors_df['married'] = married\n",
    "# actors_df.to_csv('american female actress.csv', index=False)"
   ]
  },
  {
   "cell_type": "code",
   "execution_count": null,
   "metadata": {
    "collapsed": false
   },
   "outputs": [],
   "source": [
    "# # percentage of people married\n",
    "# df = pd.DataFrame(marriage_info)\n",
    "# df[df[0] == True].count()[0] / df.count()[0]"
   ]
  }
 ],
 "metadata": {
  "anaconda-cloud": {},
  "kernelspec": {
   "display_name": "Python [Root]",
   "language": "python",
   "name": "Python [Root]"
  },
  "language_info": {
   "codemirror_mode": {
    "name": "ipython",
    "version": 3
   },
   "file_extension": ".py",
   "mimetype": "text/x-python",
   "name": "python",
   "nbconvert_exporter": "python",
   "pygments_lexer": "ipython3",
   "version": "3.5.2"
  }
 },
 "nbformat": 4,
 "nbformat_minor": 0
}
