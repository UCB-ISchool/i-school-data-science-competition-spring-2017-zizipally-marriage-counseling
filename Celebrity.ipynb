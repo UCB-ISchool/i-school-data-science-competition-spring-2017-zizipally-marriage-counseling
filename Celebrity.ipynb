{
 "cells": [
  {
   "cell_type": "markdown",
   "metadata": {},
   "source": [
    "# THINGS TO CHANGE #\n",
    "1. change category, search for '# change this accordingly'\n",
    "2. change local file name '# change to update local file name'"
   ]
  },
  {
   "cell_type": "code",
   "execution_count": 1,
   "metadata": {
    "collapsed": false
   },
   "outputs": [],
   "source": [
    "import requests\n",
    "import re\n",
    "import random\n",
    "import wptools\n",
    "import numpy as np\n",
    "import pandas as pd\n",
    "import csv\n",
    "\n",
    "base_URL = 'https://en.wikipedia.org/w/api.php'"
   ]
  },
  {
   "cell_type": "code",
   "execution_count": 2,
   "metadata": {
    "collapsed": false
   },
   "outputs": [],
   "source": [
    "person_params = {'action': 'parse', \n",
    "                 'prop': 'wikitext',\n",
    "                 'format':'json'}\n",
    "\n",
    "# parse wikipedia category pages\n",
    "def parse_categories(category_params):\n",
    "    actors_pages = []\n",
    "    while True:\n",
    "        try:\n",
    "            response = requests.get(base_URL, params=category_params).json()\n",
    "            actors_pages.append(response['query']['categorymembers'])\n",
    "            category_params['cmcontinue'] = response['continue']['cmcontinue']\n",
    "        except:\n",
    "            break\n",
    "    \n",
    "    actors = {actor['title']: actor['pageid'] for page in actors_pages for actor in page}\n",
    "    return actors\n",
    "\n",
    "# get wikitext for a single page given its page ID\n",
    "def get_page_data(pageid):\n",
    "    person_params['pageid'] = pageid\n",
    "    data = requests.get(base_URL, params=person_params).json()['parse']['wikitext']['*']\n",
    "    data = re.sub('\\s+', ' ', data)\n",
    "    return data\n",
    "\n",
    "# get a tuple of True/False, list of years when they got married, list of years when they got divorced\n",
    "# True/False: if the person has ever been married\n",
    "# the third tuple element could be an empty list if they have never got divorced before\n",
    "def get_marriage_info(pageid, data):\n",
    "    data = data[data.find('spouse'):]\n",
    "    start_idx = [m.start() for m in re.finditer('{{marriage', data.lower())]\n",
    "    n = len(start_idx)\n",
    "    if n > 0: # person is married\n",
    "        try:\n",
    "            end_idx = [data[start_idx[i]:].find('}}') for i in range(n)]\n",
    "            marriages = [data[start_idx[i] : start_idx[i] + end_idx[i]] for i in range(n)]\n",
    "            marriage_years = [[m.group() for m in re.finditer('[1-3][0-9]{3}', marriage)] for marriage in marriages]\n",
    "            start_years = [m[0] for m in marriage_years]\n",
    "            divorce_years = [m[1] for m in marriage_years if len(m) > 1]\n",
    "            return True, start_years, divorce_years\n",
    "        except:\n",
    "            print('error parsing {0}, marriages text: {1}'.format(pageid, marriages))\n",
    "            return False, None, None\n",
    "    else:\n",
    "        return False, None, None\n",
    "\n",
    "# get a person's info\n",
    "def get_info(group):\n",
    "    \"\"\" \n",
    "    Returns a dict with name, birth year and death year (if present)\n",
    "    \"\"\"\n",
    "    name = list(group['name'])[0]\n",
    "    pageid = int(list(group['pageid'])[0])\n",
    "    try: \n",
    "        page_parse = wptools.page(pageid=pageid, silent=True).get_parse(show=False)\n",
    "        infobox = page_parse.infobox\n",
    "        infobox_keys = infobox.keys()\n",
    "    except:\n",
    "        return None\n",
    "    \n",
    "    # Checking if birthdate is present\n",
    "    try:\n",
    "        birth_year = np.nan if 'birth_date' not in infobox_keys else re.findall('[1-3][0-9]{3}', infobox['birth_date'])[0]\n",
    "    except:\n",
    "        birth_year = np.nan\n",
    "        \n",
    "    # Checking if deathdate is present\n",
    "    try:\n",
    "        death_year = np.nan if 'death_date' not in infobox_keys else max(re.findall('[1-3][0-9]{3}', infobox['death_date']))\n",
    "    except:\n",
    "        death_year = np.nan\n",
    "    \n",
    "    # Getting marriage info\n",
    "    married, married_years, divorced_years = get_marriage_info(pageid, get_page_data(pageid))\n",
    "    \n",
    "    if not married:\n",
    "        person_info = [(name, pageid, birth_year, death_year, np.nan, np.nan, married)]\n",
    "    else:\n",
    "        if len(married_years) > len(divorced_years): \n",
    "            divorced_years.append(np.nan)\n",
    "        person_info = [(name, pageid, birth_year, death_year, married_years[i], divorced_years[i], married) \n",
    "                       for i in range(len(married_years))]\n",
    "    \n",
    "    return pd.DataFrame(person_info)\n",
    "\n",
    "# calculate a simple divorce rate = number of people who got a divorce/number of people who were once married\n",
    "def simple_divorce_rate(marriage_info):\n",
    "    married = [m for m in marriage_info if m[0]]\n",
    "    divorced = [m for m in married if len(m[2]) > 0]\n",
    "    return len(divorced)/len(married)\n",
    "\n",
    "# utility function: get n random celebrities from the actors list because parsing through all pages will take too long\n",
    "def get_random_celebs(actors, n, seed=None):\n",
    "    if seed is not None:\n",
    "        random.seed(seed)\n",
    "    return random.sample(list(actors.values()), n)\n",
    "\n",
    "# utility function: see if a person is married\n",
    "def is_married(pageid):\n",
    "    married, _, _ = get_marriage_info(pageid, get_page_data(pageid))\n",
    "    return married"
   ]
  },
  {
   "cell_type": "code",
   "execution_count": 3,
   "metadata": {
    "collapsed": false
   },
   "outputs": [
    {
     "data": {
      "text/plain": [
       "10678"
      ]
     },
     "execution_count": 3,
     "metadata": {},
     "output_type": "execute_result"
    }
   ],
   "source": [
    "# parse American male actor category\n",
    "category_params = {'action': 'query', \n",
    "                   'list': 'categorymembers', \n",
    "                   'cmtitle': 'Category:American male film actors', # change this accordingly\n",
    "                   'cmlimit': 500, \n",
    "                   'format':'json'}\n",
    "\n",
    "actors = parse_categories(category_params)\n",
    "len(actors)"
   ]
  },
  {
   "cell_type": "code",
   "execution_count": 4,
   "metadata": {
    "collapsed": false
   },
   "outputs": [
    {
     "name": "stdout",
     "output_type": "stream",
     "text": [
      "10678\n",
      "7916\n"
     ]
    }
   ],
   "source": [
    "# parse American female film actress category\n",
    "category_params = {'action': 'query', \n",
    "                   'list': 'categorymembers', \n",
    "                   'cmtitle': 'Category:American film actresses', # change this accordingly\n",
    "                   'cmlimit': 500, \n",
    "                   'format':'json'}\n",
    "\n",
    "actress = parse_categories(category_params)\n",
    "print(len(actors))\n",
    "print(len(actress))"
   ]
  },
  {
   "cell_type": "code",
   "execution_count": 5,
   "metadata": {
    "collapsed": false
   },
   "outputs": [],
   "source": [
    "celeb_list = []\n",
    "with open (\"celebrity_list.txt\", 'r') as f:\n",
    "    inp_celeb_list = f.read()\n",
    "\n",
    "celeb_list = inp_celeb_list.split(\"\\n\")"
   ]
  },
  {
   "cell_type": "code",
   "execution_count": 6,
   "metadata": {
    "collapsed": false
   },
   "outputs": [
    {
     "data": {
      "text/plain": [
       "169"
      ]
     },
     "execution_count": 6,
     "metadata": {},
     "output_type": "execute_result"
    }
   ],
   "source": [
    "celebs = {}\n",
    "for actor in actors:\n",
    "    if actor in celeb_list:\n",
    "        celebs[actor] = actors[actor]\n",
    "\n",
    "for actor in actress:\n",
    "    if actor in celeb_list:\n",
    "        celebs[actor] = actress[actor]\n",
    "        \n",
    "len(celebs)"
   ]
  },
  {
   "cell_type": "code",
   "execution_count": 7,
   "metadata": {
    "collapsed": false
   },
   "outputs": [
    {
     "data": {
      "text/html": [
       "<div>\n",
       "<table border=\"1\" class=\"dataframe\">\n",
       "  <thead>\n",
       "    <tr style=\"text-align: right;\">\n",
       "      <th></th>\n",
       "      <th>name</th>\n",
       "      <th>pageid</th>\n",
       "    </tr>\n",
       "  </thead>\n",
       "  <tbody>\n",
       "    <tr>\n",
       "      <th>0</th>\n",
       "      <td>Sarah Michelle Gellar</td>\n",
       "      <td>27611</td>\n",
       "    </tr>\n",
       "    <tr>\n",
       "      <th>1</th>\n",
       "      <td>Kristen Bell</td>\n",
       "      <td>1296564</td>\n",
       "    </tr>\n",
       "    <tr>\n",
       "      <th>2</th>\n",
       "      <td>Audrina Patridge</td>\n",
       "      <td>7600033</td>\n",
       "    </tr>\n",
       "    <tr>\n",
       "      <th>3</th>\n",
       "      <td>Jenny McCarthy</td>\n",
       "      <td>11494260</td>\n",
       "    </tr>\n",
       "    <tr>\n",
       "      <th>4</th>\n",
       "      <td>Corbin Bleu</td>\n",
       "      <td>3591242</td>\n",
       "    </tr>\n",
       "  </tbody>\n",
       "</table>\n",
       "</div>"
      ],
      "text/plain": [
       "                    name    pageid\n",
       "0  Sarah Michelle Gellar     27611\n",
       "1           Kristen Bell   1296564\n",
       "2       Audrina Patridge   7600033\n",
       "3         Jenny McCarthy  11494260\n",
       "4            Corbin Bleu   3591242"
      ]
     },
     "execution_count": 7,
     "metadata": {},
     "output_type": "execute_result"
    }
   ],
   "source": [
    "# creating the initial actors dataframe\n",
    "actors_df = pd.DataFrame([(celeb, celebs[celeb]) for celeb in celebs])\n",
    "actors_df.columns = ['name', 'pageid']\n",
    "actors_df.head()"
   ]
  },
  {
   "cell_type": "code",
   "execution_count": 9,
   "metadata": {
    "collapsed": false
   },
   "outputs": [],
   "source": [
    "csv_filename = 'american_male_actors.csv' # change to update local file name\n",
    "actors_df = actors_df.groupby('name', group_keys=False).apply(get_info)\n",
    "actors_df.columns = ['name', 'pageid', 'birth_year', 'death_year', 'married_year', 'divorced_year', 'married']\n",
    "actors_df.to_csv(csv_filename, index=False)"
   ]
  },
  {
   "cell_type": "code",
   "execution_count": 13,
   "metadata": {
    "collapsed": false
   },
   "outputs": [
    {
     "data": {
      "text/html": [
       "<div>\n",
       "<table border=\"1\" class=\"dataframe\">\n",
       "  <thead>\n",
       "    <tr style=\"text-align: right;\">\n",
       "      <th></th>\n",
       "      <th>name</th>\n",
       "      <th>pageid</th>\n",
       "      <th>birth_year</th>\n",
       "      <th>death_year</th>\n",
       "      <th>married_year</th>\n",
       "      <th>divorced_year</th>\n",
       "      <th>married</th>\n",
       "    </tr>\n",
       "  </thead>\n",
       "  <tbody>\n",
       "    <tr>\n",
       "      <th>0</th>\n",
       "      <td>Adam Levine</td>\n",
       "      <td>1084346</td>\n",
       "      <td>1979.0</td>\n",
       "      <td>NaN</td>\n",
       "      <td>2014.0</td>\n",
       "      <td>NaN</td>\n",
       "      <td>True</td>\n",
       "    </tr>\n",
       "    <tr>\n",
       "      <th>1</th>\n",
       "      <td>Ali Larter</td>\n",
       "      <td>691715</td>\n",
       "      <td>1976.0</td>\n",
       "      <td>NaN</td>\n",
       "      <td>2009.0</td>\n",
       "      <td>NaN</td>\n",
       "      <td>True</td>\n",
       "    </tr>\n",
       "    <tr>\n",
       "      <th>2</th>\n",
       "      <td>Alicia Keys</td>\n",
       "      <td>59720</td>\n",
       "      <td>1981.0</td>\n",
       "      <td>NaN</td>\n",
       "      <td>2010.0</td>\n",
       "      <td>NaN</td>\n",
       "      <td>True</td>\n",
       "    </tr>\n",
       "    <tr>\n",
       "      <th>3</th>\n",
       "      <td>Amanda Bynes</td>\n",
       "      <td>203421</td>\n",
       "      <td>1986.0</td>\n",
       "      <td>NaN</td>\n",
       "      <td>NaN</td>\n",
       "      <td>NaN</td>\n",
       "      <td>False</td>\n",
       "    </tr>\n",
       "    <tr>\n",
       "      <th>4</th>\n",
       "      <td>Amanda Seyfried</td>\n",
       "      <td>1020882</td>\n",
       "      <td>1985.0</td>\n",
       "      <td>NaN</td>\n",
       "      <td>NaN</td>\n",
       "      <td>NaN</td>\n",
       "      <td>False</td>\n",
       "    </tr>\n",
       "  </tbody>\n",
       "</table>\n",
       "</div>"
      ],
      "text/plain": [
       "              name   pageid  birth_year  death_year  married_year  \\\n",
       "0      Adam Levine  1084346      1979.0         NaN        2014.0   \n",
       "1       Ali Larter   691715      1976.0         NaN        2009.0   \n",
       "2      Alicia Keys    59720      1981.0         NaN        2010.0   \n",
       "3     Amanda Bynes   203421      1986.0         NaN           NaN   \n",
       "4  Amanda Seyfried  1020882      1985.0         NaN           NaN   \n",
       "\n",
       "   divorced_year married  \n",
       "0            NaN    True  \n",
       "1            NaN    True  \n",
       "2            NaN    True  \n",
       "3            NaN   False  \n",
       "4            NaN   False  "
      ]
     },
     "execution_count": 13,
     "metadata": {},
     "output_type": "execute_result"
    }
   ],
   "source": [
    "df = pd.read_csv(csv_filename)\n",
    "df.head()"
   ]
  },
  {
   "cell_type": "markdown",
   "metadata": {},
   "source": [
    "### Test the overall divorce rate for a random sample ###"
   ]
  },
  {
   "cell_type": "code",
   "execution_count": 15,
   "metadata": {
    "collapsed": false
   },
   "outputs": [
    {
     "ename": "SyntaxError",
     "evalue": "invalid syntax (<ipython-input-15-ca553ca67a25>, line 1)",
     "output_type": "error",
     "traceback": [
      "\u001b[0;36m  File \u001b[0;32m\"<ipython-input-15-ca553ca67a25>\"\u001b[0;36m, line \u001b[0;32m1\u001b[0m\n\u001b[0;31m    something deliberately wrong\u001b[0m\n\u001b[0m                         ^\u001b[0m\n\u001b[0;31mSyntaxError\u001b[0m\u001b[0;31m:\u001b[0m invalid syntax\n"
     ]
    }
   ],
   "source": [
    "something deliberately wrong"
   ]
  },
  {
   "cell_type": "code",
   "execution_count": 16,
   "metadata": {
    "collapsed": false
   },
   "outputs": [],
   "source": [
    "# # get 100 random actors\n",
    "# random_pageids = get_random_celebs(actors, 500)\n",
    "\n",
    "# # get marriage info for each of 100 actors\n",
    "# marriage_info = [get_marriage_info(pageid, get_page_data(pageid)) for pageid in random_pageids]\n",
    "\n",
    "# # do a simple calculation of the divorce rate\n",
    "# print(simple_divorce_rate(marriage_info))"
   ]
  },
  {
   "cell_type": "code",
   "execution_count": 17,
   "metadata": {
    "collapsed": false
   },
   "outputs": [],
   "source": [
    "# married = actors_df.apply(lambda x: is_married(x['pageid']), axis=1)\n",
    "# actors_df['married'] = married\n",
    "# actors_df.to_csv('american female actress.csv', index=False)"
   ]
  },
  {
   "cell_type": "code",
   "execution_count": 18,
   "metadata": {
    "collapsed": false
   },
   "outputs": [],
   "source": [
    "# # percentage of people married\n",
    "# df = pd.DataFrame(marriage_info)\n",
    "# df[df[0] == True].count()[0] / df.count()[0]"
   ]
  },
  {
   "cell_type": "code",
   "execution_count": null,
   "metadata": {
    "collapsed": true
   },
   "outputs": [],
   "source": []
  },
  {
   "cell_type": "code",
   "execution_count": null,
   "metadata": {
    "collapsed": true
   },
   "outputs": [],
   "source": []
  }
 ],
 "metadata": {
  "anaconda-cloud": {},
  "kernelspec": {
   "display_name": "Python [default]",
   "language": "python",
   "name": "python3"
  },
  "language_info": {
   "codemirror_mode": {
    "name": "ipython",
    "version": 3
   },
   "file_extension": ".py",
   "mimetype": "text/x-python",
   "name": "python",
   "nbconvert_exporter": "python",
   "pygments_lexer": "ipython3",
   "version": "3.5.2"
  }
 },
 "nbformat": 4,
 "nbformat_minor": 0
}
