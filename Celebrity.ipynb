{
 "cells": [
  {
   "cell_type": "markdown",
   "metadata": {},
   "source": [
    "# THINGS TO CHANGE #\n",
    "1. change category, search for '# change this accordingly'\n",
    "2. change local file name '# change to update local file name'"
   ]
  },
  {
   "cell_type": "code",
   "execution_count": null,
   "metadata": {
    "collapsed": true
   },
   "outputs": [],
   "source": [
    "import requests\n",
    "import re\n",
    "import random\n",
    "import wptools\n",
    "import numpy as np\n",
    "import pandas as pd\n",
    "import csv\n",
    "\n",
    "base_URL = 'https://en.wikipedia.org/w/api.php'"
   ]
  },
  {
   "cell_type": "code",
   "execution_count": null,
   "metadata": {
    "collapsed": false
   },
   "outputs": [],
   "source": [
    "person_params = {'action': 'parse', \n",
    "                 'prop': 'wikitext',\n",
    "                 'format':'json'}\n",
    "\n",
    "# parse wikipedia category pages\n",
    "def parse_categories(category_params):\n",
    "    actors_pages = []\n",
    "    while True:\n",
    "        try:\n",
    "            response = requests.get(base_URL, params=category_params).json()\n",
    "            actors_pages.append(response['query']['categorymembers'])\n",
    "            category_params['cmcontinue'] = response['continue']['cmcontinue']\n",
    "        except:\n",
    "            break\n",
    "    \n",
    "    actors = {actor['title']: actor['pageid'] for page in actors_pages for actor in page}\n",
    "    return actors\n",
    "\n",
    "# get wikitext for a single page given its page ID\n",
    "def get_page_data(pageid):\n",
    "    person_params['pageid'] = pageid\n",
    "    data = requests.get(base_URL, params=person_params).json()['parse']['wikitext']['*']\n",
    "    data = re.sub('\\s+', ' ', data)\n",
    "    return data\n",
    "\n",
    "# get a tuple of True/False, list of years when they got married, list of years when they got divorced\n",
    "# True/False: if the person has ever been married\n",
    "# the third tuple element could be an empty list if they have never got divorced before\n",
    "def get_marriage_info(pageid, data):\n",
    "    data = data[data.find('spouse'):]\n",
    "    start_idx = [m.start() for m in re.finditer('{{marriage', data.lower())]\n",
    "    n = len(start_idx)\n",
    "    if n > 0: # person is married\n",
    "        try:\n",
    "            end_idx = [data[start_idx[i]:].find('}}') for i in range(n)]\n",
    "            marriages = [data[start_idx[i] : start_idx[i] + end_idx[i]] for i in range(n)]\n",
    "            marriage_years = [[m.group() for m in re.finditer('[1-3][0-9]{3}', marriage)] for marriage in marriages]\n",
    "            start_years = [m[0] for m in marriage_years]\n",
    "            divorce_years = [m[1] for m in marriage_years if len(m) > 1]\n",
    "            return True, start_years, divorce_years\n",
    "        except:\n",
    "            print('error parsing {0}, marriages text: {1}'.format(pageid, marriages))\n",
    "            return False, None, None\n",
    "    else:\n",
    "        return False, None, None\n",
    "\n",
    "# get a person's info\n",
    "def get_info(group):\n",
    "    \"\"\" \n",
    "    Returns a dict with name, birth year and death year (if present)\n",
    "    \"\"\"\n",
    "    name = list(group['name'])[0]\n",
    "    pageid = int(list(group['pageid'])[0])\n",
    "    try: \n",
    "        page_parse = wptools.page(pageid=pageid, silent=True).get_parse(show=False)\n",
    "        infobox = page_parse.infobox\n",
    "        infobox_keys = infobox.keys()\n",
    "    except:\n",
    "        return None\n",
    "    \n",
    "    # Checking if birthdate is present\n",
    "    try:\n",
    "        birth_year = np.nan if 'birth_date' not in infobox_keys else re.findall('[1-3][0-9]{3}', infobox['birth_date'])[0]\n",
    "    except:\n",
    "        birth_year = np.nan\n",
    "        \n",
    "    # Checking if deathdate is present\n",
    "    try:\n",
    "        death_year = np.nan if 'death_date' not in infobox_keys else max(re.findall('[1-3][0-9]{3}', infobox['death_date']))\n",
    "    except:\n",
    "        death_year = np.nan\n",
    "    \n",
    "    # Getting marriage info\n",
    "    married, married_years, divorced_years = get_marriage_info(pageid, get_page_data(pageid))\n",
    "    \n",
    "    if not married:\n",
    "        person_info = [(name, pageid, birth_year, death_year, np.nan, np.nan, married)]\n",
    "    else:\n",
    "        if len(married_years) > len(divorced_years): \n",
    "            divorced_years.append(np.nan)\n",
    "        person_info = [(name, pageid, birth_year, death_year, married_years[i], divorced_years[i], married) \n",
    "                       for i in range(len(married_years))]\n",
    "    \n",
    "    return pd.DataFrame(person_info)\n",
    "\n",
    "# calculate a simple divorce rate = number of people who got a divorce/number of people who were once married\n",
    "def simple_divorce_rate(marriage_info):\n",
    "    married = [m for m in marriage_info if m[0]]\n",
    "    divorced = [m for m in married if len(m[2]) > 0]\n",
    "    return len(divorced)/len(married)\n",
    "\n",
    "# utility function: get n random celebrities from the actors list because parsing through all pages will take too long\n",
    "def get_random_celebs(actors, n, seed=None):\n",
    "    if seed is not None:\n",
    "        random.seed(seed)\n",
    "    return random.sample(list(actors.values()), n)\n",
    "\n",
    "# utility function: see if a person is married\n",
    "def is_married(pageid):\n",
    "    married, _, _ = get_marriage_info(pageid, get_page_data(pageid))\n",
    "    return married"
   ]
  },
  {
   "cell_type": "code",
   "execution_count": null,
   "metadata": {
    "collapsed": false
   },
   "outputs": [],
   "source": [
    "# parse American female film actress category\n",
    "category_params = {'action': 'query', \n",
    "                   'list': 'categorymembers', \n",
    "                   'cmtitle': 'Category:American film actresses', # change this accordingly\n",
    "                   'cmlimit': 500, \n",
    "                   'format':'json'}\n",
    "\n",
    "actors = parse_categories(category_params)\n",
    "len(actors)"
   ]
  },
  {
   "cell_type": "code",
   "execution_count": null,
   "metadata": {
    "collapsed": false
   },
   "outputs": [],
   "source": [
    "# creating the initial actors dataframe\n",
    "actors_df = pd.DataFrame([(actor, actors[actor]) for actor in actors])\n",
    "actors_df.columns = ['name', 'pageid']\n",
    "actors_df.head()"
   ]
  },
  {
   "cell_type": "code",
   "execution_count": null,
   "metadata": {
    "collapsed": false
   },
   "outputs": [],
   "source": [
    "csv_filename = 'american_female_actress.csv' # change to update local file name\n",
    "actors_df = actors_df.iloc.groupby('name', group_keys=False).apply(get_info)\n",
    "actors_df.columns = ['name', 'pageid', 'birth_year', 'death_year', 'married_year', 'divorced_year', 'married']\n",
    "actors_df.to_csv(csv_filename, index=False)"
   ]
  },
  {
   "cell_type": "code",
   "execution_count": null,
   "metadata": {
    "collapsed": false
   },
   "outputs": [],
   "source": [
    "df = pd.read_csv(csv_filename)\n",
    "df.head()"
   ]
  },
  {
   "cell_type": "markdown",
   "metadata": {},
   "source": [
    "### Test the overall divorce rate for a random sample ###"
   ]
  },
  {
   "cell_type": "code",
   "execution_count": null,
   "metadata": {
    "collapsed": false
   },
   "outputs": [],
   "source": [
    "something deliberately wrong"
   ]
  },
  {
   "cell_type": "code",
   "execution_count": null,
   "metadata": {
    "collapsed": false
   },
   "outputs": [],
   "source": [
    "# # get 100 random actors\n",
    "# random_pageids = get_random_celebs(actors, 500)\n",
    "\n",
    "# # get marriage info for each of 100 actors\n",
    "# marriage_info = [get_marriage_info(pageid, get_page_data(pageid)) for pageid in random_pageids]\n",
    "\n",
    "# # do a simple calculation of the divorce rate\n",
    "# print(simple_divorce_rate(marriage_info))"
   ]
  },
  {
   "cell_type": "code",
   "execution_count": null,
   "metadata": {
    "collapsed": false
   },
   "outputs": [],
   "source": [
    "# married = actors_df.apply(lambda x: is_married(x['pageid']), axis=1)\n",
    "# actors_df['married'] = married\n",
    "# actors_df.to_csv('american female actress.csv', index=False)"
   ]
  },
  {
   "cell_type": "code",
   "execution_count": null,
   "metadata": {
    "collapsed": false
   },
   "outputs": [],
   "source": [
    "# # percentage of people married\n",
    "# df = pd.DataFrame(marriage_info)\n",
    "# df[df[0] == True].count()[0] / df.count()[0]"
   ]
  }
 ],
 "metadata": {
  "anaconda-cloud": {},
  "kernelspec": {
   "display_name": "Python 3",
   "language": "python",
   "name": "python3"
  },
  "language_info": {
   "codemirror_mode": {
    "name": "ipython",
    "version": 3
   },
   "file_extension": ".py",
   "mimetype": "text/x-python",
   "name": "python",
   "nbconvert_exporter": "python",
   "pygments_lexer": "ipython3",
   "version": "3.5.2"
  }
 },
 "nbformat": 4,
 "nbformat_minor": 0
}
