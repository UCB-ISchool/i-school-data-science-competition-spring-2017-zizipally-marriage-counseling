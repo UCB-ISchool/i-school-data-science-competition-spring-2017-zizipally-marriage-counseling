{
 "cells": [
  {
   "cell_type": "code",
   "execution_count": 1,
   "metadata": {
    "collapsed": false
   },
   "outputs": [],
   "source": [
    "import requests\n",
    "import re\n",
    "import random\n",
    "\n",
    "base_URL = 'https://en.wikipedia.org/w/api.php'"
   ]
  },
  {
   "cell_type": "code",
   "execution_count": 12,
   "metadata": {
    "collapsed": false
   },
   "outputs": [],
   "source": [
    "person_params = {'action': 'parse', \n",
    "                 'prop': 'wikitext',\n",
    "                 'format':'json'}\n",
    "\n",
    "# parse wikipedia category pages\n",
    "def parse_categories(category_params):\n",
    "    actors_pages = []\n",
    "    while True:\n",
    "        try:\n",
    "            response = requests.get(base_URL, params=category_params).json()\n",
    "            actors_pages.append(response['query']['categorymembers'])\n",
    "            category_params['cmcontinue'] = response['continue']['cmcontinue']\n",
    "        except:\n",
    "            break\n",
    "    \n",
    "    actors = {actor['title']: actor['pageid'] for page in actors_pages for actor in page}\n",
    "    return actors\n",
    "\n",
    "# get wikitext for a single page given its page ID\n",
    "def get_page_data(pageid):\n",
    "    person_params['pageid'] = pageid\n",
    "    data = requests.get(base_URL, params=person_params).json()['parse']['wikitext']['*']\n",
    "    data = re.sub('\\s+', ' ', data)\n",
    "    return data\n",
    "\n",
    "# get a tuple of True/False, list of years when they got married, list of years when they got divorced\n",
    "# True/False: if the person has ever been married\n",
    "# the third tuple element could be an empty list if they have never got divorced before\n",
    "def get_marriage_info(data):\n",
    "    data = data[data.find('spouse'):]\n",
    "    start_idx = [m.start() for m in re.finditer('{{marriage', data.lower())]\n",
    "    n = len(start_idx)\n",
    "    if n > 0: # person is married\n",
    "        end_idx = [data[start_idx[i]:].find('}}') for i in range(n)]\n",
    "        marriages = [data[start_idx[i] : start_idx[i] + end_idx[i]] for i in range(n)]\n",
    "        marriage_years = [[m.group() for m in re.finditer('[1-3][0-9]{3}', marriage)] for marriage in marriages]\n",
    "        start_years = [m[0] for m in marriage_years]\n",
    "        divorce_years = [m[1] for m in marriage_years if len(m) > 1]\n",
    "        return True, start_years, divorce_years\n",
    "    else:\n",
    "        return False, None, None\n",
    "\n",
    "# get n random celebrities from the actors list because parsing through all pages will take too long\n",
    "def get_random_celebs(actors, n, seed=None):\n",
    "    if seed is not None:\n",
    "        random.seed(seed)\n",
    "    return random.sample(list(actors.values()), n)\n",
    "\n",
    "# calculate a simple divorce rate = number of people who got a divorce/number of people who were once married\n",
    "def simple_divorce_rate(marriage_info):\n",
    "    married = [m for m in marriage_info if m[0]]\n",
    "    divorced = [m for m in married if len(m[2]) > 0]\n",
    "    return len(divorced)/len(married)"
   ]
  },
  {
   "cell_type": "code",
   "execution_count": 13,
   "metadata": {
    "collapsed": false
   },
   "outputs": [
    {
     "data": {
      "text/plain": [
       "10679"
      ]
     },
     "execution_count": 13,
     "metadata": {},
     "output_type": "execute_result"
    }
   ],
   "source": [
    "# parse American male film actors category\n",
    "category_params = {'action': 'query', \n",
    "                   'list': 'categorymembers', \n",
    "                   'cmtitle': 'Category:American male film actors', \n",
    "                   'cmlimit': 500, \n",
    "                   'format':'json'}\n",
    "actors = parse_categories(category_params)\n",
    "len(actors)"
   ]
  },
  {
   "cell_type": "code",
   "execution_count": 14,
   "metadata": {
    "collapsed": false,
    "scrolled": false
   },
   "outputs": [
    {
     "data": {
      "text/plain": [
       "(True, ['2005', '2015'], ['2013'])"
      ]
     },
     "execution_count": 14,
     "metadata": {},
     "output_type": "execute_result"
    }
   ],
   "source": [
    "# TESTING\n",
    "# actors_test = ['Tom Cruise', 'Brad Pitt', 'Eddie Murphy', 'Tom Hanks', 'Dylan Minnette']\n",
    "get_marriage_info(get_page_data(actors['Ashton Kutcher']))"
   ]
  },
  {
   "cell_type": "code",
   "execution_count": 21,
   "metadata": {
    "collapsed": false
   },
   "outputs": [
    {
     "name": "stdout",
     "output_type": "stream",
     "text": [
      "0.5245901639344263\n"
     ]
    }
   ],
   "source": [
    "# get 100 random actors\n",
    "random_pageids = get_random_celebs(actors, 500)\n",
    "\n",
    "# get marriage info for each of 100 actors\n",
    "marriage_info = [get_marriage_info(get_page_data(pageid)) for pageid in random_pageids]\n",
    "\n",
    "# do a simple calculation of the divorce rate\n",
    "print(simple_divorce_rate(marriage_info))"
   ]
  },
  {
   "cell_type": "code",
   "execution_count": 22,
   "metadata": {
    "collapsed": false
   },
   "outputs": [],
   "source": [
    "import pandas as pd\n",
    "df = pd.DataFrame(marriage_info)"
   ]
  },
  {
   "cell_type": "code",
   "execution_count": 23,
   "metadata": {
    "collapsed": false
   },
   "outputs": [
    {
     "data": {
      "text/plain": [
       "0.122"
      ]
     },
     "execution_count": 23,
     "metadata": {},
     "output_type": "execute_result"
    }
   ],
   "source": [
    "df[df[0] == True].count()[0] / df.count()[0]"
   ]
  }
 ],
 "metadata": {
  "anaconda-cloud": {},
  "kernelspec": {
   "display_name": "Python [Root]",
   "language": "python",
   "name": "Python [Root]"
  },
  "language_info": {
   "codemirror_mode": {
    "name": "ipython",
    "version": 3
   },
   "file_extension": ".py",
   "mimetype": "text/x-python",
   "name": "python",
   "nbconvert_exporter": "python",
   "pygments_lexer": "ipython3",
   "version": "3.5.2"
  }
 },
 "nbformat": 4,
 "nbformat_minor": 0
}
